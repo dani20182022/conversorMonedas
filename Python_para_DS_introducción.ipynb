{
  "nbformat": 4,
  "nbformat_minor": 0,
  "metadata": {
    "colab": {
      "provenance": [],
      "authorship_tag": "ABX9TyNXn3L59f1SOsp9F10Tp3Kp",
      "include_colab_link": true
    },
    "kernelspec": {
      "name": "python3",
      "display_name": "Python 3"
    },
    "language_info": {
      "name": "python"
    }
  },
  "cells": [
    {
      "cell_type": "markdown",
      "metadata": {
        "id": "view-in-github",
        "colab_type": "text"
      },
      "source": [
        "<a href=\"https://colab.research.google.com/github/dani20182022/conversorMonedas/blob/main/Python_para_DS_introducci%C3%B3n.ipynb\" target=\"_parent\"><img src=\"https://colab.research.google.com/assets/colab-badge.svg\" alt=\"Open In Colab\"/></a>"
      ]
    },
    {
      "cell_type": "markdown",
      "source": [
        "#**Python para DS - introduccion al lenguaje **"
      ],
      "metadata": {
        "id": "PdUJN4mr0Aao"
      }
    },
    {
      "cell_type": "markdown",
      "source": [],
      "metadata": {
        "id": "kGc5hxnE1TLj"
      }
    },
    {
      "cell_type": "code",
      "execution_count": null,
      "metadata": {
        "id": "lpgWBE_aI2Os",
        "colab": {
          "base_uri": "https://localhost:8080/"
        },
        "outputId": "12f397b1-b347-4a57-ff5b-0852c07281e7"
      },
      "outputs": [
        {
          "output_type": "execute_result",
          "data": {
            "text/plain": [
              "2"
            ]
          },
          "metadata": {},
          "execution_count": 8
        }
      ],
      "source": [
        "1 + 1"
      ]
    },
    {
      "cell_type": "code",
      "source": [
        "nombre = 'ariadna'"
      ],
      "metadata": {
        "id": "ot0lZQP03Qu1"
      },
      "execution_count": null,
      "outputs": []
    },
    {
      "cell_type": "code",
      "source": [
        "nombre"
      ],
      "metadata": {
        "colab": {
          "base_uri": "https://localhost:8080/",
          "height": 36
        },
        "id": "gsvcAZ3y3bB9",
        "outputId": "f62b2355-d5ee-477c-8dae-72d0acf0becf"
      },
      "execution_count": null,
      "outputs": [
        {
          "output_type": "execute_result",
          "data": {
            "text/plain": [
              "'ariadna'"
            ],
            "application/vnd.google.colaboratory.intrinsic+json": {
              "type": "string"
            }
          },
          "metadata": {},
          "execution_count": 6
        }
      ]
    },
    {
      "cell_type": "code",
      "source": [
        "edad = 30"
      ],
      "metadata": {
        "id": "Ot5gDu_339L9"
      },
      "execution_count": null,
      "outputs": []
    },
    {
      "cell_type": "code",
      "source": [
        "edad"
      ],
      "metadata": {
        "colab": {
          "base_uri": "https://localhost:8080/"
        },
        "id": "uU19IvUE4BgG",
        "outputId": "30dd97dc-488e-4df1-da2b-57b39fbe5f0a"
      },
      "execution_count": null,
      "outputs": [
        {
          "output_type": "execute_result",
          "data": {
            "text/plain": [
              "29"
            ]
          },
          "metadata": {},
          "execution_count": 8
        }
      ]
    },
    {
      "cell_type": "markdown",
      "source": [
        "#mi primera funcion"
      ],
      "metadata": {
        "id": "guZ2AZTS5hHG"
      }
    },
    {
      "cell_type": "code",
      "source": [
        "print ('el nombre es ariadna y su edad es 28 años')"
      ],
      "metadata": {
        "colab": {
          "base_uri": "https://localhost:8080/"
        },
        "id": "c8blJsSc4FE1",
        "outputId": "cd867f33-d6cf-4dc7-ec3c-0cb621cd6656"
      },
      "execution_count": null,
      "outputs": [
        {
          "output_type": "stream",
          "name": "stdout",
          "text": [
            "el nombre es ariadna y su edad es 28 años\n"
          ]
        }
      ]
    },
    {
      "cell_type": "code",
      "source": [
        "print (f'el nombre es {nombre} y su edad es {edad} años')"
      ],
      "metadata": {
        "colab": {
          "base_uri": "https://localhost:8080/"
        },
        "id": "eIIHqtu48Vv5",
        "outputId": "cbba7415-b1fb-47c7-bac0-992568dda133"
      },
      "execution_count": null,
      "outputs": [
        {
          "output_type": "stream",
          "name": "stdout",
          "text": [
            "el nombre es ariadna y su edad es 30 años\n"
          ]
        }
      ]
    },
    {
      "cell_type": "code",
      "source": [
        "def saludar ():\n",
        "  nombre = input('dijite su nombre: ')\n",
        "  print (f'hola {nombre} sea bienvenid@ !!!')"
      ],
      "metadata": {
        "id": "fOWUPTNB9J_O"
      },
      "execution_count": null,
      "outputs": []
    },
    {
      "cell_type": "code",
      "source": [
        "saludar()\n"
      ],
      "metadata": {
        "colab": {
          "base_uri": "https://localhost:8080/"
        },
        "id": "FhZfPbcC_UmN",
        "outputId": "7546e54d-fe95-426e-c405-f6fa58a13b15"
      },
      "execution_count": null,
      "outputs": [
        {
          "output_type": "stream",
          "name": "stdout",
          "text": [
            "dijite su nombre: ariadna\n",
            "hola ariadna sea bienvenid@ !!!\n"
          ]
        }
      ]
    },
    {
      "cell_type": "code",
      "source": [
        "saludar ()"
      ],
      "metadata": {
        "colab": {
          "base_uri": "https://localhost:8080/"
        },
        "id": "yVow8TC-_tSc",
        "outputId": "5d3a72dc-f913-4d87-fdc6-29c318f752b6"
      },
      "execution_count": null,
      "outputs": [
        {
          "output_type": "stream",
          "name": "stdout",
          "text": [
            "dijite su nombre: hilda\n",
            "hola hilda sea bienbenido !!!\n"
          ]
        }
      ]
    },
    {
      "cell_type": "code",
      "source": [
        "def nombre_completo():\n",
        "   primer_nombre = input('¿Cuál es tu primer nombre? ')\n",
        "   apellido = input('¿Cuál es tu apellido? ')\n",
        "   nombre_completo = primer_nombre + ' ' + apellido\n",
        "   print(nombre_completo)\n",
        "nombre_completo()"
      ],
      "metadata": {
        "colab": {
          "base_uri": "https://localhost:8080/"
        },
        "id": "SYW9Spv8Aq6M",
        "outputId": "8cb20668-39d4-4ec7-f421-ad94b76d7c10"
      },
      "execution_count": null,
      "outputs": [
        {
          "output_type": "stream",
          "name": "stdout",
          "text": [
            "¿Cuál es tu primer nombre? ariadna\n",
            "¿Cuál es tu apellido? ramos\n",
            "ariadna ramos\n"
          ]
        }
      ]
    },
    {
      "cell_type": "markdown",
      "source": [
        "#**parametros**"
      ],
      "metadata": {
        "id": "j0hjtQg5J8IU"
      }
    },
    {
      "cell_type": "code",
      "source": [
        "nombre = 'andrea'"
      ],
      "metadata": {
        "id": "enS5OGnhHSXm"
      },
      "execution_count": null,
      "outputs": []
    },
    {
      "cell_type": "code",
      "source": [
        "def saludar_con_parametros(nombre):\n",
        "  print(f'hola {nombre} sea bienvenido')"
      ],
      "metadata": {
        "id": "BB1M5TpWHifV"
      },
      "execution_count": null,
      "outputs": []
    },
    {
      "cell_type": "code",
      "source": [
        "saludar_con_parametros(nombre)"
      ],
      "metadata": {
        "colab": {
          "base_uri": "https://localhost:8080/"
        },
        "id": "hmNfGgd0Jbqd",
        "outputId": "d4f04339-766e-4df4-c908-c31d8f32c61d"
      },
      "execution_count": null,
      "outputs": [
        {
          "output_type": "stream",
          "name": "stdout",
          "text": [
            "hola andrea sea bienvenido\n"
          ]
        }
      ]
    },
    {
      "cell_type": "markdown",
      "source": [
        "#**condicionales**"
      ],
      "metadata": {
        "id": "XyQX4G_nbZhG"
      }
    },
    {
      "cell_type": "code",
      "source": [
        "edad = 16\n",
        "\n",
        "def verificar_si_puiede_conducir (edad):\n",
        "  if edad >= 18:\n",
        "      print('usted tiene edad suficiente para conducir')\n",
        "  else:\n",
        "      print('usted NO tiene edad suficiente para condicir')\n",
        "verificar_si_puiede_conducir (edad)"
      ],
      "metadata": {
        "colab": {
          "base_uri": "https://localhost:8080/"
        },
        "id": "yMO_v-IPYGMU",
        "outputId": "749ce503-57f2-40e5-ece1-bdbd3e5fd643"
      },
      "execution_count": null,
      "outputs": [
        {
          "output_type": "stream",
          "name": "stdout",
          "text": [
            "usted NO tiene edad suficiente para condicir\n"
          ]
        }
      ]
    },
    {
      "cell_type": "markdown",
      "source": [
        "#**condicionales sin parametro y convercion de tipo de dato **"
      ],
      "metadata": {
        "id": "qwUC8GUUfvj_"
      }
    },
    {
      "cell_type": "code",
      "source": [
        "def verificar_si_puede_conducir_sin_parametros ():\n",
        "  edad = input( 'Digite su edad: ')\n",
        "  edad = int (edad)\n",
        "  if edad >= 18:\n",
        "      print('usted tiene edad suficiente para conducir')\n",
        "  else:\n",
        "      print('usted NO tiene edad suficiente para conducir')\n",
        "\n",
        "verificar_si_puede_conducir_sin_parametros()\n"
      ],
      "metadata": {
        "colab": {
          "base_uri": "https://localhost:8080/"
        },
        "id": "0UfoNwFoblPG",
        "outputId": "e0cb1abf-4362-4d55-9c9a-75104b04f708"
      },
      "execution_count": null,
      "outputs": [
        {
          "output_type": "stream",
          "name": "stdout",
          "text": [
            "Digite su edad: 15\n",
            "usted NO tiene edad suficiente para conducir\n"
          ]
        }
      ]
    },
    {
      "cell_type": "code",
      "source": [
        "def clasificar_nps(nota):\n",
        "  if nota <= 6:\n",
        "    print('El alumno es considerado Detractor')\n",
        "  else:\n",
        "    if nota <= 8:\n",
        "      print('El alumno es considerado Neutro')\n",
        "    else:\n",
        "      print('El alumno es considerado Promotor')\n",
        "\n",
        "clasificar_nps(9)\n"
      ],
      "metadata": {
        "colab": {
          "base_uri": "https://localhost:8080/"
        },
        "id": "L0RwcPsSbJi-",
        "outputId": "0a95f75d-2bb8-4ad3-ccfe-08ce5c479cd0"
      },
      "execution_count": null,
      "outputs": [
        {
          "output_type": "stream",
          "name": "stdout",
          "text": [
            "El alumno es considerado Promotor\n"
          ]
        }
      ]
    },
    {
      "cell_type": "markdown",
      "source": [
        "#**listas**"
      ],
      "metadata": {
        "id": "6ECDih-zFrx-"
      }
    },
    {
      "cell_type": "code",
      "source": [
        "edad = 18\n",
        "nombre = 'ariadna'"
      ],
      "metadata": {
        "id": "GztEkj6gEA0n"
      },
      "execution_count": null,
      "outputs": []
    },
    {
      "cell_type": "code",
      "source": [
        "edades = [18, 15, 12, 45, 50]"
      ],
      "metadata": {
        "id": "qtmnuGheEMpT"
      },
      "execution_count": null,
      "outputs": []
    },
    {
      "cell_type": "code",
      "source": [
        "edades"
      ],
      "metadata": {
        "colab": {
          "base_uri": "https://localhost:8080/"
        },
        "id": "-wJPIviOE4KK",
        "outputId": "1fc0b801-5ec7-48a0-e187-234c35220008"
      },
      "execution_count": null,
      "outputs": [
        {
          "output_type": "execute_result",
          "data": {
            "text/plain": [
              "[18, 15, 12, 45, 50]"
            ]
          },
          "metadata": {},
          "execution_count": 9
        }
      ]
    },
    {
      "cell_type": "code",
      "source": [
        "type(edad)"
      ],
      "metadata": {
        "colab": {
          "base_uri": "https://localhost:8080/"
        },
        "id": "ONde0qrjE_9q",
        "outputId": "eadfe127-c189-430e-db62-58b7ed6776a4"
      },
      "execution_count": null,
      "outputs": [
        {
          "output_type": "execute_result",
          "data": {
            "text/plain": [
              "int"
            ]
          },
          "metadata": {},
          "execution_count": 5
        }
      ]
    },
    {
      "cell_type": "code",
      "source": [
        "type(nombre)"
      ],
      "metadata": {
        "colab": {
          "base_uri": "https://localhost:8080/"
        },
        "id": "Ivxi-_OfFOVz",
        "outputId": "f4e97475-3481-4b06-fd6d-34d5576eabda"
      },
      "execution_count": null,
      "outputs": [
        {
          "output_type": "execute_result",
          "data": {
            "text/plain": [
              "str"
            ]
          },
          "metadata": {},
          "execution_count": 6
        }
      ]
    },
    {
      "cell_type": "code",
      "source": [
        "type(edades)"
      ],
      "metadata": {
        "colab": {
          "base_uri": "https://localhost:8080/"
        },
        "id": "Xq6R5i06FXTT",
        "outputId": "b5884661-f6f3-44be-a4b2-8c8795959fda"
      },
      "execution_count": null,
      "outputs": [
        {
          "output_type": "execute_result",
          "data": {
            "text/plain": [
              "list"
            ]
          },
          "metadata": {},
          "execution_count": 10
        }
      ]
    },
    {
      "cell_type": "code",
      "source": [
        "edades"
      ],
      "metadata": {
        "colab": {
          "base_uri": "https://localhost:8080/"
        },
        "id": "7ETkJC-cFmUC",
        "outputId": "1422debd-9a4c-497b-a8fa-e46eccfb4878"
      },
      "execution_count": null,
      "outputs": [
        {
          "output_type": "execute_result",
          "data": {
            "text/plain": [
              "[18, 15, 12, 45, 50]"
            ]
          },
          "metadata": {},
          "execution_count": 11
        }
      ]
    },
    {
      "cell_type": "code",
      "source": [
        "edades [2]"
      ],
      "metadata": {
        "colab": {
          "base_uri": "https://localhost:8080/"
        },
        "id": "3vd4vd3qF2b2",
        "outputId": "d5396186-c536-4273-af1b-0b70ca731fe1"
      },
      "execution_count": null,
      "outputs": [
        {
          "output_type": "execute_result",
          "data": {
            "text/plain": [
              "12"
            ]
          },
          "metadata": {},
          "execution_count": 12
        }
      ]
    },
    {
      "cell_type": "code",
      "source": [
        "#[18, 15,  12,  45, 50]\n",
        "# 0    1    2   3    4\n",
        "edades [1]"
      ],
      "metadata": {
        "colab": {
          "base_uri": "https://localhost:8080/"
        },
        "id": "rYgvy9qqHhx0",
        "outputId": "fbd22737-0a91-4d76-df42-70ef6e98256e"
      },
      "execution_count": null,
      "outputs": [
        {
          "output_type": "execute_result",
          "data": {
            "text/plain": [
              "15"
            ]
          },
          "metadata": {},
          "execution_count": 13
        }
      ]
    },
    {
      "cell_type": "code",
      "source": [
        "edades [0:2]"
      ],
      "metadata": {
        "colab": {
          "base_uri": "https://localhost:8080/"
        },
        "id": "-OfqRxOGIHJr",
        "outputId": "8997ae7c-e472-4733-d823-d223713230fa"
      },
      "execution_count": null,
      "outputs": [
        {
          "output_type": "execute_result",
          "data": {
            "text/plain": [
              "[18, 15]"
            ]
          },
          "metadata": {},
          "execution_count": 14
        }
      ]
    },
    {
      "cell_type": "code",
      "source": [
        "edades[:]"
      ],
      "metadata": {
        "colab": {
          "base_uri": "https://localhost:8080/"
        },
        "id": "gKVb2PoVIo89",
        "outputId": "c5eccbb8-9232-4b13-b3b8-48afac506d57"
      },
      "execution_count": null,
      "outputs": [
        {
          "output_type": "execute_result",
          "data": {
            "text/plain": [
              "[18, 15, 12, 45, 50]"
            ]
          },
          "metadata": {},
          "execution_count": 15
        }
      ]
    },
    {
      "cell_type": "code",
      "source": [
        "edades [1:]"
      ],
      "metadata": {
        "colab": {
          "base_uri": "https://localhost:8080/"
        },
        "id": "g_VVGqZiI6Nc",
        "outputId": "9c4a02bc-80b4-4031-abb8-36ef2d808fba"
      },
      "execution_count": null,
      "outputs": [
        {
          "output_type": "execute_result",
          "data": {
            "text/plain": [
              "[15, 12, 45, 50]"
            ]
          },
          "metadata": {},
          "execution_count": 16
        }
      ]
    },
    {
      "cell_type": "code",
      "source": [
        "#[18, 15,  12,  45, 50]\n",
        "# 0    1    2   3    4\n",
        "# 0    -4   -3  -2  -1\n",
        "edades [-1]"
      ],
      "metadata": {
        "colab": {
          "base_uri": "https://localhost:8080/"
        },
        "id": "VJAIVpEyJHKT",
        "outputId": "84fbcdd2-b7ec-4dc8-d4a6-ae98961fbf72"
      },
      "execution_count": null,
      "outputs": [
        {
          "output_type": "execute_result",
          "data": {
            "text/plain": [
              "50"
            ]
          },
          "metadata": {},
          "execution_count": 17
        }
      ]
    },
    {
      "cell_type": "code",
      "source": [
        "edades [-3]"
      ],
      "metadata": {
        "colab": {
          "base_uri": "https://localhost:8080/"
        },
        "id": "g_26StEmJegV",
        "outputId": "8ecbb9fb-88e2-429b-bea6-5d816dd2aef8"
      },
      "execution_count": null,
      "outputs": [
        {
          "output_type": "execute_result",
          "data": {
            "text/plain": [
              "12"
            ]
          },
          "metadata": {},
          "execution_count": 18
        }
      ]
    },
    {
      "cell_type": "code",
      "source": [
        "frase_alura = [' Digitales', 'y ', 'Negocios ', 'de ', 'Tecnología ', 'Cursos ']\n"
      ],
      "metadata": {
        "id": "mWpFM2lPKA_d"
      },
      "execution_count": null,
      "outputs": []
    },
    {
      "cell_type": "code",
      "source": [
        "frase_alura[-1] + frase_alura[3] + frase_alura[-2] + frase_alura[1] + frase_alura[2] + frase_alura[0]\n",
        "\n"
      ],
      "metadata": {
        "colab": {
          "base_uri": "https://localhost:8080/",
          "height": 36
        },
        "id": "ihCK-mscKJCF",
        "outputId": "b341d7bb-31f7-4786-9d61-e9cd7061ec67"
      },
      "execution_count": null,
      "outputs": [
        {
          "output_type": "execute_result",
          "data": {
            "text/plain": [
              "'Cursos de Tecnología y Negocios  Digitales'"
            ],
            "application/vnd.google.colaboratory.intrinsic+json": {
              "type": "string"
            }
          },
          "metadata": {},
          "execution_count": 20
        }
      ]
    },
    {
      "cell_type": "markdown",
      "source": [
        "#**ciclos y bubles **"
      ],
      "metadata": {
        "id": "0HXqcOZInlMN"
      }
    },
    {
      "cell_type": "code",
      "source": [
        "#bucle fuera de la funcion\n",
        "edades = [18,15,12,45,50]\n",
        "def verificar_si_puede_conducir(edades):\n",
        "  if edad >= 18:\n",
        "      print('usted tiene edad suficiente para conducir')\n",
        "  else:\n",
        "      print('usted NO tiene edad suficiente para condicir')\n",
        "\n",
        "\n",
        "for edad in edades:\n",
        "  verificar_si_puede_conducir (edades)"
      ],
      "metadata": {
        "colab": {
          "base_uri": "https://localhost:8080/"
        },
        "id": "auaia8OojXtZ",
        "outputId": "82a813c9-a02b-4f52-b6e7-7711d228eec1"
      },
      "execution_count": null,
      "outputs": [
        {
          "output_type": "stream",
          "name": "stdout",
          "text": [
            "usted tiene edad suficiente para conducir\n",
            "usted NO tiene edad suficiente para condicir\n",
            "usted NO tiene edad suficiente para condicir\n",
            "usted tiene edad suficiente para conducir\n",
            "usted tiene edad suficiente para conducir\n"
          ]
        }
      ]
    },
    {
      "cell_type": "code",
      "source": [
        "#bucle dentro de la funcion\n",
        "edades = [18,15,12,45,50]\n",
        "def verificar_si_puede_conducir_con_bucle(edades):\n",
        " for edad in edades:\n",
        "   if edad >= 18:\n",
        "       print('usted tiene edad suficiente para conducir')\n",
        "   else:\n",
        "       print('usted NO tiene edad suficiente para condicir')\n",
        "\n",
        " verificar_si_puede_conducir_con_bucle (edades)"
      ],
      "metadata": {
        "id": "9MNNaOW9oozG"
      },
      "execution_count": null,
      "outputs": []
    },
    {
      "cell_type": "markdown",
      "source": [
        "#**booleano**"
      ],
      "metadata": {
        "id": "zSQ4VZhAdeJM"
      }
    },
    {
      "cell_type": "code",
      "source": [
        "edad = 18"
      ],
      "metadata": {
        "id": "GepNQRyZdlLK"
      },
      "execution_count": null,
      "outputs": []
    },
    {
      "cell_type": "code",
      "source": [
        "edad >= 18"
      ],
      "metadata": {
        "colab": {
          "base_uri": "https://localhost:8080/"
        },
        "id": "AOAhYMlSdqmp",
        "outputId": "e8756c18-e025-4613-acef-37c8ac96bbc7"
      },
      "execution_count": null,
      "outputs": [
        {
          "output_type": "execute_result",
          "data": {
            "text/plain": [
              "True"
            ]
          },
          "metadata": {},
          "execution_count": 3
        }
      ]
    },
    {
      "cell_type": "code",
      "source": [
        "edad < 18"
      ],
      "metadata": {
        "colab": {
          "base_uri": "https://localhost:8080/"
        },
        "id": "dgWFFaBmd3M4",
        "outputId": "7620e2ad-5ba3-486a-9b11-2d92ad906103"
      },
      "execution_count": null,
      "outputs": [
        {
          "output_type": "execute_result",
          "data": {
            "text/plain": [
              "False"
            ]
          },
          "metadata": {},
          "execution_count": 4
        }
      ]
    },
    {
      "cell_type": "code",
      "source": [
        "edad == 18"
      ],
      "metadata": {
        "colab": {
          "base_uri": "https://localhost:8080/"
        },
        "id": "OvinA4LTd_e_",
        "outputId": "fb7cc172-935a-4c6a-f00d-1c22877b773b"
      },
      "execution_count": null,
      "outputs": [
        {
          "output_type": "execute_result",
          "data": {
            "text/plain": [
              "True"
            ]
          },
          "metadata": {},
          "execution_count": 6
        }
      ]
    },
    {
      "cell_type": "code",
      "source": [
        "verificaciones = []\n",
        "edades =  [13,15,20]\n",
        "\n",
        "def verificar_si_puede_conducir_bool(verificaciones,edades):\n",
        "      for edad in edades:\n",
        "         if edad >= 18:\n",
        "           verificaciones.append(True)\n",
        "      else:\n",
        "        verificaciones.append(False)\n",
        "\n",
        "\n",
        "        for verificacion in verificaciones:\n",
        "          if verificacion == True:\n",
        "           print ('usted NO tiene edad suficiente para conducir')\n",
        "        else:\n",
        "          print('usted tiene edad suficiente para conducir')\n",
        "\n",
        "verificar_si_puede_conducir_bool(verificaciones,edades)"
      ],
      "metadata": {
        "id": "IGSA7X8JeTNi",
        "colab": {
          "base_uri": "https://localhost:8080/"
        },
        "outputId": "f17c990e-cc69-4630-b161-2bdf60421a1c"
      },
      "execution_count": 7,
      "outputs": [
        {
          "output_type": "stream",
          "name": "stdout",
          "text": [
            "usted NO tiene edad suficiente para conducir\n",
            "usted tiene edad suficiente para conducir\n"
          ]
        }
      ]
    },
    {
      "cell_type": "code",
      "source": [
        "a=2\n",
        "\n",
        "if a < 2:\n",
        " a = a + 1\n",
        "else:\n",
        " a = a + 2\n",
        "if a < 4:\n",
        " a = a - 4\n",
        "else:\n",
        " a = a + 6\n",
        "\n",
        "a"
      ],
      "metadata": {
        "colab": {
          "base_uri": "https://localhost:8080/"
        },
        "id": "iwl9A5mR34ln",
        "outputId": "f574a2be-7465-4ae3-f65e-049c3c9b19cd"
      },
      "execution_count": 8,
      "outputs": [
        {
          "output_type": "execute_result",
          "data": {
            "text/plain": [
              "10"
            ]
          },
          "metadata": {},
          "execution_count": 8
        }
      ]
    },
    {
      "cell_type": "markdown",
      "source": [
        "#**lista con direnetes tipos de datos**"
      ],
      "metadata": {
        "id": "WhEpT_gwAJGl"
      }
    },
    {
      "cell_type": "code",
      "source": [
        "persona =  [ 'mariana',25,True,'mexico' ]"
      ],
      "metadata": {
        "id": "8JDqn4bPAR__"
      },
      "execution_count": 6,
      "outputs": []
    },
    {
      "cell_type": "code",
      "source": [
        "persona"
      ],
      "metadata": {
        "colab": {
          "base_uri": "https://localhost:8080/"
        },
        "id": "aqK-JBEYBDNO",
        "outputId": "aa702ff7-7dc9-457d-d6da-473bef79f2ff"
      },
      "execution_count": 7,
      "outputs": [
        {
          "output_type": "execute_result",
          "data": {
            "text/plain": [
              "['mariana', 25, True, 'mexico']"
            ]
          },
          "metadata": {},
          "execution_count": 7
        }
      ]
    },
    {
      "cell_type": "code",
      "source": [
        "for elemento in persona:\n",
        "  print (f'El elemento {elemento} dela lista es del tipo ', type (elemento) )"
      ],
      "metadata": {
        "colab": {
          "base_uri": "https://localhost:8080/"
        },
        "id": "gC4bvmvfBGNq",
        "outputId": "eb8eb3c2-e8ad-422c-c6e2-882ba106d165"
      },
      "execution_count": 8,
      "outputs": [
        {
          "output_type": "stream",
          "name": "stdout",
          "text": [
            "El elemento mariana dela lista es del tipo  <class 'str'>\n",
            "El elemento 25 dela lista es del tipo  <class 'int'>\n",
            "El elemento True dela lista es del tipo  <class 'bool'>\n",
            "El elemento mexico dela lista es del tipo  <class 'str'>\n"
          ]
        }
      ]
    },
    {
      "cell_type": "markdown",
      "source": [
        "#**importando una biblioteca**"
      ],
      "metadata": {
        "id": "R_hU6Rsnz1ky"
      }
    },
    {
      "cell_type": "code",
      "source": [
        "from random import randrange, seed"
      ],
      "metadata": {
        "id": "XLxRAyHrJCQw"
      },
      "execution_count": 50,
      "outputs": []
    },
    {
      "cell_type": "code",
      "source": [
        "randrange(0,11)"
      ],
      "metadata": {
        "colab": {
          "base_uri": "https://localhost:8080/"
        },
        "id": "moyVbd5k05sG",
        "outputId": "e027af12-04af-49cd-a15e-efd6ca7993e4"
      },
      "execution_count": 4,
      "outputs": [
        {
          "output_type": "execute_result",
          "data": {
            "text/plain": [
              "7"
            ]
          },
          "metadata": {},
          "execution_count": 4
        }
      ]
    },
    {
      "cell_type": "code",
      "source": [
        "notas_matematicas = []"
      ],
      "metadata": {
        "id": "Nk5tPL5g2H-g"
      },
      "execution_count": 24,
      "outputs": []
    },
    {
      "cell_type": "code",
      "source": [
        "notas_matematicas.append(randrange(0,11))"
      ],
      "metadata": {
        "id": "m9MP8r9O2VPk"
      },
      "execution_count": 39,
      "outputs": []
    },
    {
      "cell_type": "code",
      "source": [
        "notas_matematicas"
      ],
      "metadata": {
        "colab": {
          "base_uri": "https://localhost:8080/"
        },
        "id": "AZfXM1c62zZO",
        "outputId": "566bacf9-f32a-4e92-82dc-c92a0d2ebe5f"
      },
      "execution_count": 40,
      "outputs": [
        {
          "output_type": "execute_result",
          "data": {
            "text/plain": [
              "[1, 5, 2, 6]"
            ]
          },
          "metadata": {},
          "execution_count": 40
        }
      ]
    },
    {
      "cell_type": "code",
      "source": [
        "notas_matematicas = []\n",
        "seed(8)\n",
        "for notas in range (6):\n",
        "  notas_matematicas.append(randrange(0,11))"
      ],
      "metadata": {
        "id": "oYRIM9frO7d0"
      },
      "execution_count": 51,
      "outputs": []
    },
    {
      "cell_type": "code",
      "source": [
        "notas_matematicas"
      ],
      "metadata": {
        "colab": {
          "base_uri": "https://localhost:8080/"
        },
        "id": "8bdJnMHPPZ37",
        "outputId": "25766a47-20dc-4d56-afbc-cb5e477a91c1"
      },
      "execution_count": 54,
      "outputs": [
        {
          "output_type": "execute_result",
          "data": {
            "text/plain": [
              "[3, 5, 6, 2, 3, 0]"
            ]
          },
          "metadata": {},
          "execution_count": 54
        }
      ]
    },
    {
      "cell_type": "code",
      "source": [
        "len (notas_matematicas)"
      ],
      "metadata": {
        "colab": {
          "base_uri": "https://localhost:8080/"
        },
        "id": "Q3O97vn6R7sX",
        "outputId": "0e176a8c-6abd-442e-d445-c48058098e95"
      },
      "execution_count": 46,
      "outputs": [
        {
          "output_type": "execute_result",
          "data": {
            "text/plain": [
              "6"
            ]
          },
          "metadata": {},
          "execution_count": 46
        }
      ]
    },
    {
      "cell_type": "markdown",
      "source": [
        "#**biblioteca matplotlib para graficos **"
      ],
      "metadata": {
        "id": "87quA3A_T-bb"
      }
    },
    {
      "cell_type": "code",
      "source": [
        "import matplotlib.pyplot as plt\n"
      ],
      "metadata": {
        "id": "P3-Kj0V8UQdu"
      },
      "execution_count": 55,
      "outputs": []
    },
    {
      "cell_type": "code",
      "source": [
        "list(range(1,7))"
      ],
      "metadata": {
        "colab": {
          "base_uri": "https://localhost:8080/"
        },
        "id": "XUCAgcKmVI3M",
        "outputId": "f8b6de5c-3fa6-4e8a-b140-e6b40c3f83b8"
      },
      "execution_count": 56,
      "outputs": [
        {
          "output_type": "execute_result",
          "data": {
            "text/plain": [
              "[1, 2, 3, 4, 5, 6]"
            ]
          },
          "metadata": {},
          "execution_count": 56
        }
      ]
    },
    {
      "cell_type": "code",
      "source": [
        "x = list(range(1,7))\n",
        "y = notas_matematicas\n",
        "\n",
        "plt.plot(x,y , marker = 'o')\n",
        "plt.title('grafico de las notas de matematicas')\n",
        "plt.xlabel('pruebas')\n",
        "plt.ylabel('notas')\n",
        "plt.show()"
      ],
      "metadata": {
        "colab": {
          "base_uri": "https://localhost:8080/",
          "height": 472
        },
        "id": "-kQOCJtlViet",
        "outputId": "07475dea-6c8a-4b88-d263-4010dbeffc31"
      },
      "execution_count": 64,
      "outputs": [
        {
          "output_type": "display_data",
          "data": {
            "text/plain": [
              "<Figure size 640x480 with 1 Axes>"
            ],
            "image/png": "[encoded data removed]"
          },
          "metadata": {}
        }
      ]
    },
    {
      "cell_type": "code",
      "source": [
        "import matplotlib.pyplot as plt\n",
        "\n",
        "notas_matematica = ['Matemática',8,7,6,6,7,7,8,10]\n",
        "notas_lenguaje = ['Lenguaje',9,9,9,8,5,6,8,5]\n",
        "notas_geografia = ['Geografía',10,10,6,7,7,7,8,7]\n",
        "\n",
        "notas = [notas_matematica, notas_lenguaje, notas_geografia]"
      ],
      "metadata": {
        "id": "HfIHoDvtlNcn"
      },
      "execution_count": 66,
      "outputs": []
    }
  ]
}